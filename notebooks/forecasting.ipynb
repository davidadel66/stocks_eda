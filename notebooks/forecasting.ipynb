{
 "cells": [
  {
   "cell_type": "code",
   "execution_count": 60,
   "metadata": {},
   "outputs": [
    {
     "name": "stdout",
     "output_type": "stream",
     "text": [
      "Cuda or CPU availability: cuda\n"
     ]
    }
   ],
   "source": [
    "import pandas as pd\n",
    "import numpy as np\n",
    "import matplotlib.pyplot as plt\n",
    "from datetime import datetime\n",
    "from copy import deepcopy\n",
    "\n",
    "from sklearn.preprocessing import MinMaxScaler\n",
    "from sklearn.model_selection import train_test_split\n",
    "\n",
    "import torch\n",
    "import torch.nn as nn\n",
    "from torch.utils.data import Dataset, DataLoader\n",
    "\n",
    "device = 'cuda' if torch.cuda.is_available() else 'cpu'\n",
    "print(f\"Cuda or CPU availability: {device}\")"
   ]
  },
  {
   "cell_type": "code",
   "execution_count": 9,
   "metadata": {},
   "outputs": [
    {
     "data": {
      "text/html": [
       "<div>\n",
       "<style scoped>\n",
       "    .dataframe tbody tr th:only-of-type {\n",
       "        vertical-align: middle;\n",
       "    }\n",
       "\n",
       "    .dataframe tbody tr th {\n",
       "        vertical-align: top;\n",
       "    }\n",
       "\n",
       "    .dataframe thead th {\n",
       "        text-align: right;\n",
       "    }\n",
       "</style>\n",
       "<table border=\"1\" class=\"dataframe\">\n",
       "  <thead>\n",
       "    <tr style=\"text-align: right;\">\n",
       "      <th></th>\n",
       "      <th>Date</th>\n",
       "      <th>Open</th>\n",
       "      <th>High</th>\n",
       "      <th>Low</th>\n",
       "      <th>Close</th>\n",
       "      <th>Volume</th>\n",
       "    </tr>\n",
       "  </thead>\n",
       "  <tbody>\n",
       "    <tr>\n",
       "      <th>0</th>\n",
       "      <td>2020-01-02 00:00:00-05:00</td>\n",
       "      <td>28.299999</td>\n",
       "      <td>28.713333</td>\n",
       "      <td>28.114000</td>\n",
       "      <td>28.684000</td>\n",
       "      <td>142981500</td>\n",
       "    </tr>\n",
       "    <tr>\n",
       "      <th>1</th>\n",
       "      <td>2020-01-03 00:00:00-05:00</td>\n",
       "      <td>29.366667</td>\n",
       "      <td>30.266666</td>\n",
       "      <td>29.128000</td>\n",
       "      <td>29.534000</td>\n",
       "      <td>266677500</td>\n",
       "    </tr>\n",
       "    <tr>\n",
       "      <th>2</th>\n",
       "      <td>2020-01-06 00:00:00-05:00</td>\n",
       "      <td>29.364668</td>\n",
       "      <td>30.104000</td>\n",
       "      <td>29.333332</td>\n",
       "      <td>30.102667</td>\n",
       "      <td>151995000</td>\n",
       "    </tr>\n",
       "    <tr>\n",
       "      <th>3</th>\n",
       "      <td>2020-01-07 00:00:00-05:00</td>\n",
       "      <td>30.760000</td>\n",
       "      <td>31.441999</td>\n",
       "      <td>30.224001</td>\n",
       "      <td>31.270666</td>\n",
       "      <td>268231500</td>\n",
       "    </tr>\n",
       "    <tr>\n",
       "      <th>4</th>\n",
       "      <td>2020-01-08 00:00:00-05:00</td>\n",
       "      <td>31.580000</td>\n",
       "      <td>33.232666</td>\n",
       "      <td>31.215334</td>\n",
       "      <td>32.809334</td>\n",
       "      <td>467164500</td>\n",
       "    </tr>\n",
       "    <tr>\n",
       "      <th>...</th>\n",
       "      <td>...</td>\n",
       "      <td>...</td>\n",
       "      <td>...</td>\n",
       "      <td>...</td>\n",
       "      <td>...</td>\n",
       "      <td>...</td>\n",
       "    </tr>\n",
       "    <tr>\n",
       "      <th>964</th>\n",
       "      <td>2023-10-31 00:00:00-04:00</td>\n",
       "      <td>196.119995</td>\n",
       "      <td>202.800003</td>\n",
       "      <td>194.070007</td>\n",
       "      <td>200.839996</td>\n",
       "      <td>118068300</td>\n",
       "    </tr>\n",
       "    <tr>\n",
       "      <th>965</th>\n",
       "      <td>2023-11-01 00:00:00-04:00</td>\n",
       "      <td>204.039993</td>\n",
       "      <td>205.990005</td>\n",
       "      <td>197.850006</td>\n",
       "      <td>205.660004</td>\n",
       "      <td>121661700</td>\n",
       "    </tr>\n",
       "    <tr>\n",
       "      <th>966</th>\n",
       "      <td>2023-11-02 00:00:00-04:00</td>\n",
       "      <td>212.970001</td>\n",
       "      <td>219.199997</td>\n",
       "      <td>211.449997</td>\n",
       "      <td>218.509995</td>\n",
       "      <td>125987600</td>\n",
       "    </tr>\n",
       "    <tr>\n",
       "      <th>967</th>\n",
       "      <td>2023-11-03 00:00:00-04:00</td>\n",
       "      <td>221.149994</td>\n",
       "      <td>226.369995</td>\n",
       "      <td>218.399994</td>\n",
       "      <td>219.960007</td>\n",
       "      <td>119281000</td>\n",
       "    </tr>\n",
       "    <tr>\n",
       "      <th>968</th>\n",
       "      <td>2023-11-06 00:00:00-05:00</td>\n",
       "      <td>223.979996</td>\n",
       "      <td>226.320007</td>\n",
       "      <td>215.000000</td>\n",
       "      <td>219.270004</td>\n",
       "      <td>117029600</td>\n",
       "    </tr>\n",
       "  </tbody>\n",
       "</table>\n",
       "<p>969 rows × 6 columns</p>\n",
       "</div>"
      ],
      "text/plain": [
       "                          Date        Open        High         Low  \\\n",
       "0    2020-01-02 00:00:00-05:00   28.299999   28.713333   28.114000   \n",
       "1    2020-01-03 00:00:00-05:00   29.366667   30.266666   29.128000   \n",
       "2    2020-01-06 00:00:00-05:00   29.364668   30.104000   29.333332   \n",
       "3    2020-01-07 00:00:00-05:00   30.760000   31.441999   30.224001   \n",
       "4    2020-01-08 00:00:00-05:00   31.580000   33.232666   31.215334   \n",
       "..                         ...         ...         ...         ...   \n",
       "964  2023-10-31 00:00:00-04:00  196.119995  202.800003  194.070007   \n",
       "965  2023-11-01 00:00:00-04:00  204.039993  205.990005  197.850006   \n",
       "966  2023-11-02 00:00:00-04:00  212.970001  219.199997  211.449997   \n",
       "967  2023-11-03 00:00:00-04:00  221.149994  226.369995  218.399994   \n",
       "968  2023-11-06 00:00:00-05:00  223.979996  226.320007  215.000000   \n",
       "\n",
       "          Close     Volume  \n",
       "0     28.684000  142981500  \n",
       "1     29.534000  266677500  \n",
       "2     30.102667  151995000  \n",
       "3     31.270666  268231500  \n",
       "4     32.809334  467164500  \n",
       "..          ...        ...  \n",
       "964  200.839996  118068300  \n",
       "965  205.660004  121661700  \n",
       "966  218.509995  125987600  \n",
       "967  219.960007  119281000  \n",
       "968  219.270004  117029600  \n",
       "\n",
       "[969 rows x 6 columns]"
      ]
     },
     "execution_count": 9,
     "metadata": {},
     "output_type": "execute_result"
    }
   ],
   "source": [
    "data = pd.read_csv('../data/tsla_daily.csv')\n",
    "data"
   ]
  },
  {
   "cell_type": "code",
   "execution_count": 29,
   "metadata": {},
   "outputs": [
    {
     "name": "stdout",
     "output_type": "stream",
     "text": [
      "           Date       Close\n",
      "0    2020-01-02   28.684000\n",
      "1    2020-01-03   29.534000\n",
      "2    2020-01-06   30.102667\n",
      "3    2020-01-07   31.270666\n",
      "4    2020-01-08   32.809334\n",
      "..          ...         ...\n",
      "964  2023-10-31  200.839996\n",
      "965  2023-11-01  205.660004\n",
      "966  2023-11-02  218.509995\n",
      "967  2023-11-03  219.960007\n",
      "968  2023-11-06  219.270004\n",
      "\n",
      "[969 rows x 2 columns]\n"
     ]
    },
    {
     "data": {
      "text/plain": [
       "[<matplotlib.lines.Line2D at 0x7f77a8b36920>]"
      ]
     },
     "execution_count": 29,
     "metadata": {},
     "output_type": "execute_result"
    },
    {
     "data": {
      "image/png": "[encoded data removed]",
      "text/plain": [
       "<Figure size 640x480 with 1 Axes>"
      ]
     },
     "metadata": {},
     "output_type": "display_data"
    }
   ],
   "source": [
    "TSLA = data[['Date', 'Close']].copy()   \n",
    "TSLA['Date'] = pd.to_datetime(TSLA['Date'], utc=True).dt.strftime('%Y-%m-%d')\n",
    "\n",
    "print(TSLA)\n",
    "\n",
    "plt.plot(TSLA.Close)"
   ]
  },
  {
   "cell_type": "code",
   "execution_count": 41,
   "metadata": {},
   "outputs": [
    {
     "data": {
      "text/html": [
       "<div>\n",
       "<style scoped>\n",
       "    .dataframe tbody tr th:only-of-type {\n",
       "        vertical-align: middle;\n",
       "    }\n",
       "\n",
       "    .dataframe tbody tr th {\n",
       "        vertical-align: top;\n",
       "    }\n",
       "\n",
       "    .dataframe thead th {\n",
       "        text-align: right;\n",
       "    }\n",
       "</style>\n",
       "<table border=\"1\" class=\"dataframe\">\n",
       "  <thead>\n",
       "    <tr style=\"text-align: right;\">\n",
       "      <th></th>\n",
       "      <th>Close</th>\n",
       "      <th>Close(t-7)</th>\n",
       "      <th>Close(t-6)</th>\n",
       "      <th>Close(t-5)</th>\n",
       "      <th>Close(t-4)</th>\n",
       "      <th>Close(t-3)</th>\n",
       "      <th>Close(t-2)</th>\n",
       "      <th>Close(t-1)</th>\n",
       "    </tr>\n",
       "    <tr>\n",
       "      <th>Date</th>\n",
       "      <th></th>\n",
       "      <th></th>\n",
       "      <th></th>\n",
       "      <th></th>\n",
       "      <th></th>\n",
       "      <th></th>\n",
       "      <th></th>\n",
       "      <th></th>\n",
       "    </tr>\n",
       "  </thead>\n",
       "  <tbody>\n",
       "    <tr>\n",
       "      <th>2020-01-13</th>\n",
       "      <td>34.990665</td>\n",
       "      <td>28.684000</td>\n",
       "      <td>29.534000</td>\n",
       "      <td>30.102667</td>\n",
       "      <td>31.270666</td>\n",
       "      <td>32.809334</td>\n",
       "      <td>32.089333</td>\n",
       "      <td>31.876667</td>\n",
       "    </tr>\n",
       "    <tr>\n",
       "      <th>2020-01-14</th>\n",
       "      <td>35.861332</td>\n",
       "      <td>29.534000</td>\n",
       "      <td>30.102667</td>\n",
       "      <td>31.270666</td>\n",
       "      <td>32.809334</td>\n",
       "      <td>32.089333</td>\n",
       "      <td>31.876667</td>\n",
       "      <td>34.990665</td>\n",
       "    </tr>\n",
       "    <tr>\n",
       "      <th>2020-01-15</th>\n",
       "      <td>34.566666</td>\n",
       "      <td>30.102667</td>\n",
       "      <td>31.270666</td>\n",
       "      <td>32.809334</td>\n",
       "      <td>32.089333</td>\n",
       "      <td>31.876667</td>\n",
       "      <td>34.990665</td>\n",
       "      <td>35.861332</td>\n",
       "    </tr>\n",
       "    <tr>\n",
       "      <th>2020-01-16</th>\n",
       "      <td>34.232666</td>\n",
       "      <td>31.270666</td>\n",
       "      <td>32.809334</td>\n",
       "      <td>32.089333</td>\n",
       "      <td>31.876667</td>\n",
       "      <td>34.990665</td>\n",
       "      <td>35.861332</td>\n",
       "      <td>34.566666</td>\n",
       "    </tr>\n",
       "    <tr>\n",
       "      <th>2020-01-17</th>\n",
       "      <td>34.033333</td>\n",
       "      <td>32.809334</td>\n",
       "      <td>32.089333</td>\n",
       "      <td>31.876667</td>\n",
       "      <td>34.990665</td>\n",
       "      <td>35.861332</td>\n",
       "      <td>34.566666</td>\n",
       "      <td>34.232666</td>\n",
       "    </tr>\n",
       "    <tr>\n",
       "      <th>...</th>\n",
       "      <td>...</td>\n",
       "      <td>...</td>\n",
       "      <td>...</td>\n",
       "      <td>...</td>\n",
       "      <td>...</td>\n",
       "      <td>...</td>\n",
       "      <td>...</td>\n",
       "      <td>...</td>\n",
       "    </tr>\n",
       "    <tr>\n",
       "      <th>2023-10-31</th>\n",
       "      <td>200.839996</td>\n",
       "      <td>211.990005</td>\n",
       "      <td>212.080002</td>\n",
       "      <td>216.520004</td>\n",
       "      <td>212.419998</td>\n",
       "      <td>205.759995</td>\n",
       "      <td>207.300003</td>\n",
       "      <td>197.360001</td>\n",
       "    </tr>\n",
       "    <tr>\n",
       "      <th>2023-11-01</th>\n",
       "      <td>205.660004</td>\n",
       "      <td>212.080002</td>\n",
       "      <td>216.520004</td>\n",
       "      <td>212.419998</td>\n",
       "      <td>205.759995</td>\n",
       "      <td>207.300003</td>\n",
       "      <td>197.360001</td>\n",
       "      <td>200.839996</td>\n",
       "    </tr>\n",
       "    <tr>\n",
       "      <th>2023-11-02</th>\n",
       "      <td>218.509995</td>\n",
       "      <td>216.520004</td>\n",
       "      <td>212.419998</td>\n",
       "      <td>205.759995</td>\n",
       "      <td>207.300003</td>\n",
       "      <td>197.360001</td>\n",
       "      <td>200.839996</td>\n",
       "      <td>205.660004</td>\n",
       "    </tr>\n",
       "    <tr>\n",
       "      <th>2023-11-03</th>\n",
       "      <td>219.960007</td>\n",
       "      <td>212.419998</td>\n",
       "      <td>205.759995</td>\n",
       "      <td>207.300003</td>\n",
       "      <td>197.360001</td>\n",
       "      <td>200.839996</td>\n",
       "      <td>205.660004</td>\n",
       "      <td>218.509995</td>\n",
       "    </tr>\n",
       "    <tr>\n",
       "      <th>2023-11-06</th>\n",
       "      <td>219.270004</td>\n",
       "      <td>205.759995</td>\n",
       "      <td>207.300003</td>\n",
       "      <td>197.360001</td>\n",
       "      <td>200.839996</td>\n",
       "      <td>205.660004</td>\n",
       "      <td>218.509995</td>\n",
       "      <td>219.960007</td>\n",
       "    </tr>\n",
       "  </tbody>\n",
       "</table>\n",
       "<p>962 rows × 8 columns</p>\n",
       "</div>"
      ],
      "text/plain": [
       "                 Close  Close(t-7)  Close(t-6)  Close(t-5)  Close(t-4)  \\\n",
       "Date                                                                     \n",
       "2020-01-13   34.990665   28.684000   29.534000   30.102667   31.270666   \n",
       "2020-01-14   35.861332   29.534000   30.102667   31.270666   32.809334   \n",
       "2020-01-15   34.566666   30.102667   31.270666   32.809334   32.089333   \n",
       "2020-01-16   34.232666   31.270666   32.809334   32.089333   31.876667   \n",
       "2020-01-17   34.033333   32.809334   32.089333   31.876667   34.990665   \n",
       "...                ...         ...         ...         ...         ...   \n",
       "2023-10-31  200.839996  211.990005  212.080002  216.520004  212.419998   \n",
       "2023-11-01  205.660004  212.080002  216.520004  212.419998  205.759995   \n",
       "2023-11-02  218.509995  216.520004  212.419998  205.759995  207.300003   \n",
       "2023-11-03  219.960007  212.419998  205.759995  207.300003  197.360001   \n",
       "2023-11-06  219.270004  205.759995  207.300003  197.360001  200.839996   \n",
       "\n",
       "            Close(t-3)  Close(t-2)  Close(t-1)  \n",
       "Date                                            \n",
       "2020-01-13   32.809334   32.089333   31.876667  \n",
       "2020-01-14   32.089333   31.876667   34.990665  \n",
       "2020-01-15   31.876667   34.990665   35.861332  \n",
       "2020-01-16   34.990665   35.861332   34.566666  \n",
       "2020-01-17   35.861332   34.566666   34.232666  \n",
       "...                ...         ...         ...  \n",
       "2023-10-31  205.759995  207.300003  197.360001  \n",
       "2023-11-01  207.300003  197.360001  200.839996  \n",
       "2023-11-02  197.360001  200.839996  205.660004  \n",
       "2023-11-03  200.839996  205.660004  218.509995  \n",
       "2023-11-06  205.660004  218.509995  219.960007  \n",
       "\n",
       "[962 rows x 8 columns]"
      ]
     },
     "execution_count": 41,
     "metadata": {},
     "output_type": "execute_result"
    }
   ],
   "source": [
    "def lstm_preprocessing(df, n_steps):\n",
    "    df = deepcopy(df)\n",
    "    df.set_index('Date', inplace=True)\n",
    "\n",
    "    for i in range(1, n_steps):\n",
    "        df[f\"Close(t-{n_steps - i})\"] = df['Close'].shift(n_steps - i)\n",
    "\n",
    "    df.dropna(inplace=True)\n",
    "\n",
    "    return df\n",
    "\n",
    "steps = 8\n",
    "TSLA_shifted = lstm_preprocessing(TSLA, steps)\n",
    "TSLA_shifted"
   ]
  },
  {
   "cell_type": "code",
   "execution_count": 42,
   "metadata": {},
   "outputs": [
    {
     "data": {
      "text/plain": [
       "array([[ 34.99066544,  28.68400002,  29.5340004 , ...,  32.8093338 ,\n",
       "         32.08933258,  31.87666702],\n",
       "       [ 35.86133194,  29.5340004 ,  30.10266685, ...,  32.08933258,\n",
       "         31.87666702,  34.99066544],\n",
       "       [ 34.56666565,  30.10266685,  31.27066612, ...,  31.87666702,\n",
       "         34.99066544,  35.86133194],\n",
       "       ...,\n",
       "       [218.50999451, 216.52000427, 212.41999817, ..., 197.36000061,\n",
       "        200.83999634, 205.66000366],\n",
       "       [219.96000671, 212.41999817, 205.75999451, ..., 200.83999634,\n",
       "        205.66000366, 218.50999451],\n",
       "       [219.27000427, 205.75999451, 207.30000305, ..., 205.66000366,\n",
       "        218.50999451, 219.96000671]])"
      ]
     },
     "execution_count": 42,
     "metadata": {},
     "output_type": "execute_result"
    }
   ],
   "source": [
    "TSLA_shifted_np = TSLA_shifted.to_numpy()\n",
    "\n",
    "TSLA_shifted_np\n",
    "\n"
   ]
  },
  {
   "cell_type": "code",
   "execution_count": 43,
   "metadata": {},
   "outputs": [
    {
     "data": {
      "text/plain": [
       "array([[-0.94345865, -0.9761451 , -0.97173969, ..., -0.95476415,\n",
       "        -0.9584958 , -0.95959802],\n",
       "       [-0.93894613, -0.97173969, -0.96879238, ..., -0.9584958 ,\n",
       "        -0.95959802, -0.94345865],\n",
       "       [-0.94565618, -0.96879238, -0.96273882, ..., -0.95959802,\n",
       "        -0.94345865, -0.93894613],\n",
       "       ...,\n",
       "       [ 0.00769303, -0.00262077, -0.02387045, ..., -0.10192404,\n",
       "        -0.08388777, -0.05890644],\n",
       "       [ 0.01520822, -0.02387045, -0.0583882 , ..., -0.08388777,\n",
       "        -0.05890644,  0.00769303],\n",
       "       [ 0.01163204, -0.0583882 , -0.05040658, ..., -0.05890644,\n",
       "         0.00769303,  0.01520822]])"
      ]
     },
     "execution_count": 43,
     "metadata": {},
     "output_type": "execute_result"
    }
   ],
   "source": [
    "scaler = MinMaxScaler(feature_range=(-1,1))\n",
    "TSLA_shifted_scaled_np = scaler.fit_transform(TSLA_shifted_np)\n",
    "\n",
    "TSLA_shifted_scaled_np"
   ]
  },
  {
   "cell_type": "code",
   "execution_count": 54,
   "metadata": {},
   "outputs": [
    {
     "name": "stdout",
     "output_type": "stream",
     "text": [
      "Shape of features: (962, 7)\n",
      "Shape of label: (962,)\n"
     ]
    }
   ],
   "source": [
    "X = TSLA_shifted_scaled_np[:, 1:]\n",
    "y = TSLA_shifted_scaled_np[:, 0]\n",
    "\n",
    "print(f\"Shape of features: {X.shape}\")\n",
    "print(f\"Shape of label: {y.shape}\")"
   ]
  },
  {
   "cell_type": "code",
   "execution_count": 55,
   "metadata": {},
   "outputs": [
    {
     "name": "stdout",
     "output_type": "stream",
     "text": [
      "Training X, y shape: (769, 7), (769,)\n",
      "Test X, y shape: (193, 7), (193,)\n"
     ]
    }
   ],
   "source": [
    "X_train, X_test, y_train, y_test = train_test_split(\n",
    "    X,\n",
    "    y,\n",
    "    test_size = 0.2,\n",
    "    random_state=123\n",
    ")\n",
    "\n",
    "print(f\"Training X, y shape: {X_train.shape}, {y_train.shape}\")\n",
    "print(f\"Test X, y shape: {X_test.shape}, {y_test.shape}\")"
   ]
  },
  {
   "cell_type": "code",
   "execution_count": 56,
   "metadata": {},
   "outputs": [
    {
     "name": "stdout",
     "output_type": "stream",
     "text": [
      "----- After reshaping -----\n",
      "Training X, y shape: (769, 7, 1), (769, 1)\n",
      "Test X, y shape: (193, 7, 1), (193, 1)\n"
     ]
    }
   ],
   "source": [
    "X_train = X_train.reshape((-1,7,1))\n",
    "X_test = X_test.reshape((-1,7,1))\n",
    "\n",
    "y_train = y_train.reshape((-1,1))\n",
    "y_test = y_test.reshape((-1,1))\n",
    "\n",
    "print('----- After reshaping -----')\n",
    "print(f\"Training X, y shape: {X_train.shape}, {y_train.shape}\")\n",
    "print(f\"Test X, y shape: {X_test.shape}, {y_test.shape}\")\n"
   ]
  },
  {
   "cell_type": "code",
   "execution_count": 57,
   "metadata": {},
   "outputs": [
    {
     "name": "stdout",
     "output_type": "stream",
     "text": [
      "----- Convert to Torch Tensor -----\n",
      "Training X, y shape: torch.Size([769, 7, 1]), torch.Size([769, 1])\n",
      "Test X, y shape: torch.Size([193, 7, 1]), torch.Size([193, 1])\n"
     ]
    }
   ],
   "source": [
    "X_train = torch.tensor(X_train).float()\n",
    "X_test = torch.tensor(X_test).float()\n",
    "y_train = torch.tensor(y_train).float()\n",
    "y_test = torch.tensor(y_test).float()\n",
    "\n",
    "print('----- Convert to Torch Tensor -----')\n",
    "print(f\"Training X, y shape: {X_train.shape}, {y_train.shape}\")\n",
    "print(f\"Test X, y shape: {X_test.shape}, {y_test.shape}\")"
   ]
  },
  {
   "cell_type": "code",
   "execution_count": 59,
   "metadata": {},
   "outputs": [],
   "source": [
    "class TimeSeriesDataset(Dataset):\n",
    "    def __init__(self, X, y):\n",
    "        self.X = X\n",
    "        self.y = y\n",
    "\n",
    "    def __len__(self):\n",
    "        return len(self.X)\n",
    "\n",
    "    def __getitem__(self, i):\n",
    "        return self.X[i], self.y[i]\n",
    "\n",
    "\n",
    "train_dataset = TimeSeriesDataset(X_train, y_train)\n",
    "test_dataset = TimeSeriesDataset(X_test, y_test)"
   ]
  },
  {
   "cell_type": "code",
   "execution_count": 61,
   "metadata": {},
   "outputs": [],
   "source": [
    "torch.manual_seed(123)\n",
    "\n",
    "batch_size = 16\n",
    "train_loader = DataLoader(train_dataset, batch_size=batch_size, shuffle=True)\n",
    "test_loader = DataLoader(test_dataset, batch_size=batch_size, shuffle=False)\n",
    "\n",
    "\n"
   ]
  },
  {
   "cell_type": "code",
   "execution_count": 65,
   "metadata": {},
   "outputs": [
    {
     "data": {
      "text/plain": [
       "<__main__.TimeSeriesDataset at 0x7f7787c4f250>"
      ]
     },
     "execution_count": 65,
     "metadata": {},
     "output_type": "execute_result"
    }
   ],
   "source": [
    "train_loader.dataset"
   ]
  },
  {
   "cell_type": "code",
   "execution_count": 72,
   "metadata": {},
   "outputs": [
    {
     "name": "stdout",
     "output_type": "stream",
     "text": [
      "torch.Size([16, 7, 1]) torch.Size([16, 1])\n"
     ]
    }
   ],
   "source": [
    "for i, batch in enumerate(train_loader):\n",
    "    x_batch, y_batch = batch[0].to(device), batch[1].to(device)\n",
    "    print(x_batch.shape, y_batch.shape)\n",
    "    break\n",
    "    # print(batch)\n",
    "    \n"
   ]
  },
  {
   "cell_type": "code",
   "execution_count": 76,
   "metadata": {},
   "outputs": [
    {
     "ename": "RuntimeError",
     "evalue": "cuDNN error: CUDNN_STATUS_NOT_INITIALIZED",
     "output_type": "error",
     "traceback": [
      "\u001b[0;31m---------------------------------------------------------------------------\u001b[0m",
      "\u001b[0;31mRuntimeError\u001b[0m                              Traceback (most recent call last)",
      "\u001b[1;32m/home/david/Desktop/david/stocks_eda/notebooks/forecasting.ipynb Cell 15\u001b[0m line \u001b[0;36m2\n\u001b[1;32m     <a href='vscode-notebook-cell:/home/david/Desktop/david/stocks_eda/notebooks/forecasting.ipynb#X35sZmlsZQ%3D%3D?line=19'>20</a>\u001b[0m         \u001b[39mreturn\u001b[39;00m out\n\u001b[1;32m     <a href='vscode-notebook-cell:/home/david/Desktop/david/stocks_eda/notebooks/forecasting.ipynb#X35sZmlsZQ%3D%3D?line=22'>23</a>\u001b[0m model \u001b[39m=\u001b[39m LSTM(\u001b[39m1\u001b[39m, \u001b[39m4\u001b[39m, \u001b[39m1\u001b[39m)\n\u001b[0;32m---> <a href='vscode-notebook-cell:/home/david/Desktop/david/stocks_eda/notebooks/forecasting.ipynb#X35sZmlsZQ%3D%3D?line=23'>24</a>\u001b[0m model\u001b[39m.\u001b[39;49mto(device)\n\u001b[1;32m     <a href='vscode-notebook-cell:/home/david/Desktop/david/stocks_eda/notebooks/forecasting.ipynb#X35sZmlsZQ%3D%3D?line=24'>25</a>\u001b[0m model\n",
      "File \u001b[0;32m~/.local/lib/python3.10/site-packages/torch/nn/modules/module.py:1160\u001b[0m, in \u001b[0;36mModule.to\u001b[0;34m(self, *args, **kwargs)\u001b[0m\n\u001b[1;32m   1156\u001b[0m         \u001b[39mreturn\u001b[39;00m t\u001b[39m.\u001b[39mto(device, dtype \u001b[39mif\u001b[39;00m t\u001b[39m.\u001b[39mis_floating_point() \u001b[39mor\u001b[39;00m t\u001b[39m.\u001b[39mis_complex() \u001b[39melse\u001b[39;00m \u001b[39mNone\u001b[39;00m,\n\u001b[1;32m   1157\u001b[0m                     non_blocking, memory_format\u001b[39m=\u001b[39mconvert_to_format)\n\u001b[1;32m   1158\u001b[0m     \u001b[39mreturn\u001b[39;00m t\u001b[39m.\u001b[39mto(device, dtype \u001b[39mif\u001b[39;00m t\u001b[39m.\u001b[39mis_floating_point() \u001b[39mor\u001b[39;00m t\u001b[39m.\u001b[39mis_complex() \u001b[39melse\u001b[39;00m \u001b[39mNone\u001b[39;00m, non_blocking)\n\u001b[0;32m-> 1160\u001b[0m \u001b[39mreturn\u001b[39;00m \u001b[39mself\u001b[39;49m\u001b[39m.\u001b[39;49m_apply(convert)\n",
      "File \u001b[0;32m~/.local/lib/python3.10/site-packages/torch/nn/modules/module.py:810\u001b[0m, in \u001b[0;36mModule._apply\u001b[0;34m(self, fn, recurse)\u001b[0m\n\u001b[1;32m    808\u001b[0m \u001b[39mif\u001b[39;00m recurse:\n\u001b[1;32m    809\u001b[0m     \u001b[39mfor\u001b[39;00m module \u001b[39min\u001b[39;00m \u001b[39mself\u001b[39m\u001b[39m.\u001b[39mchildren():\n\u001b[0;32m--> 810\u001b[0m         module\u001b[39m.\u001b[39;49m_apply(fn)\n\u001b[1;32m    812\u001b[0m \u001b[39mdef\u001b[39;00m \u001b[39mcompute_should_use_set_data\u001b[39m(tensor, tensor_applied):\n\u001b[1;32m    813\u001b[0m     \u001b[39mif\u001b[39;00m torch\u001b[39m.\u001b[39m_has_compatible_shallow_copy_type(tensor, tensor_applied):\n\u001b[1;32m    814\u001b[0m         \u001b[39m# If the new tensor has compatible tensor type as the existing tensor,\u001b[39;00m\n\u001b[1;32m    815\u001b[0m         \u001b[39m# the current behavior is to change the tensor in-place using `.data =`,\u001b[39;00m\n\u001b[0;32m   (...)\u001b[0m\n\u001b[1;32m    820\u001b[0m         \u001b[39m# global flag to let the user control whether they want the future\u001b[39;00m\n\u001b[1;32m    821\u001b[0m         \u001b[39m# behavior of overwriting the existing tensor or not.\u001b[39;00m\n",
      "File \u001b[0;32m~/.local/lib/python3.10/site-packages/torch/nn/modules/rnn.py:218\u001b[0m, in \u001b[0;36mRNNBase._apply\u001b[0;34m(self, fn, recurse)\u001b[0m\n\u001b[1;32m    213\u001b[0m ret \u001b[39m=\u001b[39m \u001b[39msuper\u001b[39m()\u001b[39m.\u001b[39m_apply(fn, recurse)\n\u001b[1;32m    215\u001b[0m \u001b[39m# Resets _flat_weights\u001b[39;00m\n\u001b[1;32m    216\u001b[0m \u001b[39m# Note: be v. careful before removing this, as 3rd party device types\u001b[39;00m\n\u001b[1;32m    217\u001b[0m \u001b[39m# likely rely on this behavior to properly .to() modules like LSTM.\u001b[39;00m\n\u001b[0;32m--> 218\u001b[0m \u001b[39mself\u001b[39;49m\u001b[39m.\u001b[39;49m_init_flat_weights()\n\u001b[1;32m    220\u001b[0m \u001b[39mreturn\u001b[39;00m ret\n",
      "File \u001b[0;32m~/.local/lib/python3.10/site-packages/torch/nn/modules/rnn.py:155\u001b[0m, in \u001b[0;36mRNNBase._init_flat_weights\u001b[0;34m(self)\u001b[0m\n\u001b[1;32m    151\u001b[0m \u001b[39mself\u001b[39m\u001b[39m.\u001b[39m_flat_weights \u001b[39m=\u001b[39m [\u001b[39mgetattr\u001b[39m(\u001b[39mself\u001b[39m, wn) \u001b[39mif\u001b[39;00m \u001b[39mhasattr\u001b[39m(\u001b[39mself\u001b[39m, wn) \u001b[39melse\u001b[39;00m \u001b[39mNone\u001b[39;00m\n\u001b[1;32m    152\u001b[0m                       \u001b[39mfor\u001b[39;00m wn \u001b[39min\u001b[39;00m \u001b[39mself\u001b[39m\u001b[39m.\u001b[39m_flat_weights_names]\n\u001b[1;32m    153\u001b[0m \u001b[39mself\u001b[39m\u001b[39m.\u001b[39m_flat_weight_refs \u001b[39m=\u001b[39m [weakref\u001b[39m.\u001b[39mref(w) \u001b[39mif\u001b[39;00m w \u001b[39mis\u001b[39;00m \u001b[39mnot\u001b[39;00m \u001b[39mNone\u001b[39;00m \u001b[39melse\u001b[39;00m \u001b[39mNone\u001b[39;00m\n\u001b[1;32m    154\u001b[0m                           \u001b[39mfor\u001b[39;00m w \u001b[39min\u001b[39;00m \u001b[39mself\u001b[39m\u001b[39m.\u001b[39m_flat_weights]\n\u001b[0;32m--> 155\u001b[0m \u001b[39mself\u001b[39;49m\u001b[39m.\u001b[39;49mflatten_parameters()\n",
      "File \u001b[0;32m~/.local/lib/python3.10/site-packages/torch/nn/modules/rnn.py:206\u001b[0m, in \u001b[0;36mRNNBase.flatten_parameters\u001b[0;34m(self)\u001b[0m\n\u001b[1;32m    204\u001b[0m \u001b[39mif\u001b[39;00m \u001b[39mself\u001b[39m\u001b[39m.\u001b[39mproj_size \u001b[39m>\u001b[39m \u001b[39m0\u001b[39m:\n\u001b[1;32m    205\u001b[0m     num_weights \u001b[39m+\u001b[39m\u001b[39m=\u001b[39m \u001b[39m1\u001b[39m\n\u001b[0;32m--> 206\u001b[0m torch\u001b[39m.\u001b[39;49m_cudnn_rnn_flatten_weight(\n\u001b[1;32m    207\u001b[0m     \u001b[39mself\u001b[39;49m\u001b[39m.\u001b[39;49m_flat_weights, num_weights,\n\u001b[1;32m    208\u001b[0m     \u001b[39mself\u001b[39;49m\u001b[39m.\u001b[39;49minput_size, rnn\u001b[39m.\u001b[39;49mget_cudnn_mode(\u001b[39mself\u001b[39;49m\u001b[39m.\u001b[39;49mmode),\n\u001b[1;32m    209\u001b[0m     \u001b[39mself\u001b[39;49m\u001b[39m.\u001b[39;49mhidden_size, \u001b[39mself\u001b[39;49m\u001b[39m.\u001b[39;49mproj_size, \u001b[39mself\u001b[39;49m\u001b[39m.\u001b[39;49mnum_layers,\n\u001b[1;32m    210\u001b[0m     \u001b[39mself\u001b[39;49m\u001b[39m.\u001b[39;49mbatch_first, \u001b[39mbool\u001b[39;49m(\u001b[39mself\u001b[39;49m\u001b[39m.\u001b[39;49mbidirectional))\n",
      "\u001b[0;31mRuntimeError\u001b[0m: cuDNN error: CUDNN_STATUS_NOT_INITIALIZED"
     ]
    }
   ],
   "source": [
    "class LSTM(nn.Module):\n",
    "    def __init__(self, input_size, hidden_size, num_stacked_layers):\n",
    "        super().__init__()\n",
    "        self.hidden_size = hidden_size\n",
    "        self.num_stacked_layers = num_stacked_layers\n",
    "        self.lstm = nn.LSTM(\n",
    "            input_size,\n",
    "            hidden_size,\n",
    "            num_stacked_layers,\n",
    "            batch_first = True\n",
    "        )\n",
    "        self.linear = nn.Linear(hidden_size, 1)\n",
    "\n",
    "    def forward(self, x):\n",
    "        batch_size = x.size(0)\n",
    "        h0 = torch.zeros(self.num_stacked_layers, batch_size, self.hidden_size).to(device)\n",
    "        c0 = torch.zeros(self.num_stacked_layers, batch_size, self.hidden_size).to(device)\n",
    "        out, _ =  self.lstm(x, (h0, c0))\n",
    "        out = self.linear(out[:, -1, :])\n",
    "        return out\n",
    "\n",
    "\n",
    "model = LSTM(1, 4, 1)\n",
    "model.to(device)\n",
    "model\n"
   ]
  },
  {
   "cell_type": "code",
   "execution_count": 77,
   "metadata": {},
   "outputs": [],
   "source": [
    "learning_rate = 0.01\n",
    "num_epochs = 10\n",
    "loss = nn.MSELoss()\n",
    "optimizer = torch.optim.Adam(model.parameters(), lr = learning_rate)\n"
   ]
  },
  {
   "cell_type": "code",
   "execution_count": null,
   "metadata": {},
   "outputs": [],
   "source": [
    "for epoch in range(num_epochs):\n",
    "    model.train(True)\n",
    "    print(f\"Epoch: {epoch + 1}\")\n",
    "    running_loss = 0.0\n",
    "\n",
    "    for batch_index, batch in enumerate(train_loader):\n",
    "        x_batch, y_batch = batch[0].to(device), batch[1].to(device)\n",
    "\n",
    "        output = model(x_batch)\n",
    "\n"
   ]
  }
 ],
 "metadata": {
  "kernelspec": {
   "display_name": "Python 3.11.3 64-bit",
   "language": "python",
   "name": "python3"
  },
  "language_info": {
   "codemirror_mode": {
    "name": "ipython",
    "version": 3
   },
   "file_extension": ".py",
   "mimetype": "text/x-python",
   "name": "python",
   "nbconvert_exporter": "python",
   "pygments_lexer": "ipython3",
   "version": "3.10.12"
  },
  "orig_nbformat": 4,
  "vscode": {
   "interpreter": {
    "hash": "c261aea317cc0286b3b3261fbba9abdec21eaa57589985bb7a274bf54d6cc0a7"
   }
  }
 },
 "nbformat": 4,
 "nbformat_minor": 2
}
